{
  "cells": [
    {
      "cell_type": "markdown",
      "metadata": {
        "id": "view-in-github",
        "colab_type": "text"
      },
      "source": [
        "<a href=\"https://colab.research.google.com/github/LBY-L/MineColab/blob/master/MineColab_forked_by_LBY.ipynb\" target=\"_parent\"><img src=\"https://colab.research.google.com/assets/colab-badge.svg\" alt=\"Open In Colab\"/></a>"
      ]
    },
    {
      "cell_type": "code",
      "source": [
        "#@title\n",
        "from IPython.core.display import display, HTML\n",
        "display(HTML('<p><img style=\"display: block; margin-left: auto; margin-right: auto;\" src=\"https://github.com/LBY-L/MineColab/blob/master/Logo.png?raw=true\" alt=\"\" width=\"170\" height=\"136\" /></p><h1 style=\"text-align: center;\"><span style=\"color: #99ccff;\">MineColab</span></h1><hr /><h2 style=\"text-align: center;\"><span style=\"color: #ccffcc;\">Forked By LBY_L</span></h2><h2 style=\"text-align: center;\"><span style=\"color: #99cc00;\">Run Minecraft Server On Google Colab</span></h2>'))"
      ],
      "metadata": {
        "colab": {
          "base_uri": "https://localhost:8080/",
          "height": 312
        },
        "cellView": "form",
        "id": "qGGoU3FtnWdc",
        "outputId": "c4c3ee45-b876-4c2b-e4fc-53c686252ff5"
      },
      "execution_count": null,
      "outputs": [
        {
          "output_type": "display_data",
          "data": {
            "text/plain": [
              "<IPython.core.display.HTML object>"
            ],
            "text/html": [
              "<p><img style=\"display: block; margin-left: auto; margin-right: auto;\" src=\"https://github.com/LBY-L/MineColab/blob/master/Logo.png?raw=true\" alt=\"\" width=\"170\" height=\"136\" /></p><h1 style=\"text-align: center;\"><span style=\"color: #99ccff;\">MineColab</span></h1><hr /><h2 style=\"text-align: center;\"><span style=\"color: #ccffcc;\">Forked By LBY_L</span></h2><h2 style=\"text-align: center;\"><span style=\"color: #99cc00;\">Run Minecraft Server On Google Colab</span></h2>"
            ]
          },
          "metadata": {}
        }
      ]
    },
    {
      "cell_type": "code",
      "execution_count": null,
      "metadata": {
        "id": "awqJPGk8CLCO",
        "cellView": "form"
      },
      "outputs": [],
      "source": [
        "#@title Accept Eula\n",
        "from google.colab import drive\n",
        "drive.mount('/content/drive')\n",
        "%cd \"/content/drive/MyDrive/Minecraft-server\"\n",
        "!echo \"eula=true\" > eula.txt"
      ]
    },
    {
      "cell_type": "code",
      "execution_count": null,
      "metadata": {
        "id": "lqtMoYg0dUmu",
        "cellView": "form"
      },
      "outputs": [],
      "source": [
        "#@title Run\n",
        "#@markdown #### **This will create a folder named \"Minecraft-server\" in your [Google Drive](https://drive.google.com/) and here put your server jar**\n",
        "#@markdown #### **Here put the name of your server jar of your server**\n",
        "JarName = \"\" #@param {type:\"string\"}\n",
        "#@markdown #### **Select if you server use Paper or no**\n",
        "Paper = \"No\" #@param [\"Yes\", \"No\"]\n",
        "#@markdown #### **You can select between [Ngrok](https://ngrok.com/) or [PlayIt](https://playit.gg/) if you will use Ngrok you need complete NgrokAuthToken and NgrokRegion**\n",
        "TunnelService = \"ngrok\" #@param [\"ngrok\", \"playit\"] \n",
        "#@markdown #### **Here put your ngrok token, if you haven't it, get it [here](https://dashboard.ngrok.com/get-started/your-authtoken)** \n",
        "NgrokAuthToken = \"\" #@param {type:\"string\"}\n",
        "#@markdown #### **Here is the region where is will be hosted your minecraft**\n",
        "\n",
        "#@markdown * #### `us` - United States (Ohio)\n",
        "\n",
        "#@markdown * #### `eu` - Europe (Frankfurt)\n",
        "\n",
        "#@markdown * #### `ap` - Asia/Pacific (Singapore)\n",
        "\n",
        "#@markdown * #### `au` - Australia (Sydney)\n",
        "\n",
        "#@markdown * #### `sa` - South America (Sao Paulo)\n",
        "\n",
        "#@markdown * #### `jp` - Japan (Tokyo)\n",
        "\n",
        "#@markdown * #### `in` - India (Mumbai)\n",
        "NgrokRegion = \"us\" #@param [\"us\", \"eu\", \"ap\", \"au\", \"sa\", \"jp\", \"in\"]\n",
        "import os\n",
        "import re\n",
        "import json\n",
        "from IPython.display import clear_output\n",
        "# Update the package lists\n",
        "!sudo apt update &>/dev/null && echo \"apt cache successfully updated\" || echo \"apt cache update failed, you might receive stale packages\"\n",
        "\n",
        "# Mount Google Drive\n",
        "from google.colab import drive\n",
        "drive.mount('/content/drive')\n",
        "# Change directory to the Minecraft server folder on Google Drive\n",
        "!mkdir \"/content/drive/MyDrive/Minecraft-server\"\n",
        "%cd \"/content/drive/MyDrive/Minecraft-server\"\n",
        "clear_output()\n",
        "!sudo apt-get install openjdk-17-jre-headless &>/dev/null && echo \"Yay! Openjdk17 has been successfully installed.\" || echo \"Failed to install OpenJdk17.\"\n",
        "!sudo apt-get install openjdk-8-jre-headless &>/dev/null && echo \"Yay! Openjdk8 has been successfully installed.\" || echo \"Failed to install OpenJdk8.\"\n",
        "\n",
        "# Java arguments.\n",
        "if Paper == \"Yes\":\n",
        "  server_flags = \"-XX:+UseG1GC -XX:+ParallelRefProcEnabled -XX:MaxGCPauseMillis=200 -XX:+UnlockExperimentalVMOptions -XX:+DisableExplicitGC -XX:+AlwaysPreTouch -XX:G1NewSizePercent=30 -XX:G1MaxNewSizePercent=40 -XX:G1HeapRegionSize=8M -XX:G1ReservePercent=20 -XX:G1HeapWastePercent=5 -XX:G1MixedGCCountTarget=4 -XX:InitiatingHeapOccupancyPercent=15 -XX:G1MixedGCLiveThresholdPercent=90 -XX:G1RSetUpdatingPauseTimePercent=5 -XX:SurvivorRatio=32 -XX:+PerfDisableSharedMem -XX:MaxTenuringThreshold=1 -Dusing.aikars.flags=https://mcflags.emc.gs -Daikars.new.flags=true\"\n",
        "else:\n",
        "  server_flags = \"\" # aiker's flags might negatively impact performance on non-paper servers.\n",
        "memory_allocation = \"-Xmx6144M -Xms6144M\"\n",
        "\n",
        "\n",
        "print(\"Procedding to use\", TunnelService)\n",
        "if TunnelService == \"ngrok\":\n",
        "  !pip -q install pyngrok\n",
        "  from pyngrok import conf, ngrok\n",
        "  clear_output()\n",
        "  # Ask for the ngrok authtoken\n",
        "  !ngrok authtoken $NgrokAuthToken # login to ngrok\n",
        "  # Sets default ngrok region\n",
        "  conf.get_default().region = NgrokRegion  # Change this to whichever region you want\n",
        "  # Connect to ngrok\n",
        "  url = ngrok.connect(25565, 'tcp')\n",
        "  print('Your server address is ' + ((str(url).split('\"')[1::2])[0]).replace('tcp://', ''))\n",
        "  print('Starting server...')\n",
        "  !java $memory_allocation $server_flags -jar $JarName nogui\n",
        "\n",
        "elif TunnelService == \"playit\":\n",
        "  clear_output()\n",
        "  !curl -SsL https://playit-cloud.github.io/ppa/key.gpg | sudo apt-key add -\n",
        "  !sudo curl -SsL -o /etc/apt/sources.list.d/playit-cloud.list https://playit-cloud.github.io/ppa/playit-cloud.list\n",
        "  !sudo apt update &>/dev/null && sudo apt install playit &>/dev/null && echo \"Playit.gg installed\" || echo \"Failed to install playit\"\n",
        "  print('Starting server...')\n",
        "  !playit & java $memory_allocation $server_flags -jar $JarName nogui\n"
      ]
    }
  ],
  "metadata": {
    "colab": {
      "provenance": [],
      "toc_visible": true,
      "include_colab_link": true
    },
    "kernelspec": {
      "display_name": "Python 3",
      "name": "python3"
    }
  },
  "nbformat": 4,
  "nbformat_minor": 0
}