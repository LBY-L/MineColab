{
  "cells": [
    {
      "cell_type": "markdown",
      "metadata": {
        "id": "view-in-github",
        "colab_type": "text"
      },
      "source": [
        "<a href=\"https://colab.research.google.com/github/LBY-L/MineColab/blob/master/MineColab_forked_by_LBY.ipynb\" target=\"_parent\"><img src=\"https://colab.research.google.com/assets/colab-badge.svg\" alt=\"Open In Colab\"/></a>"
      ]
    },
    {
      "cell_type": "markdown",
      "metadata": {
        "id": "ZktjRJuZp1h6"
      },
      "source": [
        "\n",
        "```\n",
        "███╗   ███╗██╗███╗   ██╗███████╗ ██████╗ ██████╗ ██╗      █████╗ ██████╗\n",
        "████╗ ████║██║████╗  ██║██╔════╝██╔════╝██╔═══██╗██║     ██╔══██╗██╔══██╗\n",
        "██╔████╔██║██║██╔██╗ ██║█████╗  ██║     ██║   ██║██║     ███████║██████╔╝ \n",
        "██║╚██╔╝██║██║██║╚██╗██║██╔══╝  ██║     ██║   ██║██║     ██╔══██║██╔══██╗\n",
        "██║ ╚═╝ ██║██║██║ ╚████║███████╗╚██████╗╚██████╔╝███████╗██║  ██║██████╔╝\n",
        "╚═╝     ╚═╝╚═╝╚═╝  ╚═══╝╚══════╝ ╚═════╝ ╚═════╝ ╚══════╝╚═╝  ╚═╝╚═════╝ \n",
        "                                  Forked By\n",
        "                                    LBY_L\n",
        "```\n",
        "**Run a Minecraft Server on Google Colab!**\n",
        "\n",
        "---\n",
        "\n",
        "This script will make the all of job. Only you need put the server executable in your drive in a new folder named \"Minecraft-server\" make this when this want the server executable."
      ]
    },
    {
      "cell_type": "code",
      "execution_count": 3,
      "metadata": {
        "id": "lqtMoYg0dUmu",
        "outputId": "82cf4984-068b-48e5-af56-9ad0c048ceba",
        "colab": {
          "base_uri": "https://localhost:8080/"
        }
      },
      "outputs": [
        {
          "output_type": "stream",
          "name": "stdout",
          "text": [
            "\u001b[33mGet your authtoken from https://dashboard.ngrok.com/auth\n",
            "\u001b[32mAuthtoken saved to configuration file: /root/.ngrok2/ngrok.yml\n",
            "server.jar\n",
            "Your server address is 2.tcp.ngrok.io:17222\n",
            "Starting server...\n",
            "Error: Unable to access jarfile server.jar\n"
          ]
        }
      ],
      "source": [
        "import os\n",
        "import re\n",
        "import json\n",
        "from IPython.display import clear_output\n",
        "# Update the package lists\n",
        "!sudo apt update &>/dev/null && echo \"apt cache successfully updated\" || echo \"apt cache update failed, you might receive stale packages\"\n",
        "\n",
        "# Mount Google Drive\n",
        "from google.colab import drive\n",
        "drive.mount('/content/drive')\n",
        "# Change directory to the Minecraft server folder on Google Drive\n",
        "!mkdir \"/content/drive/MyDrive/Minecraft-server\"\n",
        "%cd \"/content/drive/MyDrive/Minecraft-server\"\n",
        "# Install OpenJDK 17\n",
        "# !wget -qO - https://adoptopenjdk.jfrog.io/adoptopenjdk/api/gpg/key/public | sudo apt-key add -\n",
        "# !sudo add-apt-repository --yes https://adoptopenjdk.jfrog.io/adoptopenjdk/deb/ &>/dev/null || echo \"Failed to add repo. Still can be ignored if openjdk17 gets installed.\"\n",
        "clear_output()\n",
        "if os.path.isfile(\"JavaCheck\"):\n",
        "  !if [[ $(cat JavaCheck) == 1 ]]; then sudo apt-get install openjdk-17-jre-headless &>/dev/null && echo \"Yay! Openjdk17 has been successfully installed.\" || echo \"Failed to install OpenJdk17.\" ; elif [[ $(cat JavaCheck) == 2 ]]; then sudo apt-get install openjdk-8-jre-headless &>/dev/null && echo \"Yay! Openjdk8 has been successfully installed.\" || echo \"Failed to install OpenJdk8.\" ; fi\n",
        "else:\n",
        "  !touch JavaCheck\n",
        "  !tput setaf 3; echo \"     Select you minecraft version:    \"; tput setaf 2; echo \"1) 1.17 and above      2) 1.16 to below\"; read ver; if [[ $ver == 1 ]]; then echo \"1\" > JavaCheck; sudo apt-get install openjdk-17-jre-headless &>/dev/null && echo \"Yay! Openjdk17 has been successfully installed.\" || echo \"Failed to install OpenJdk17.\"; elif [[ $ver == 2 ]]; then echo \"2\" > JavaCheck; sudo apt-get install openjdk-8-jre-headless &>/dev/null && echo \"Yay! Openjdk8 has been successfully installed.\" || echo \"Failed to install OpenJdk8.\"; fi\n",
        "#Perform java version check\n",
        "java_ver_17 = !java -version 2>&1 | awk -F[\\\"\\.] -v OFS=. 'NR==1{print $2}'\n",
        "java_ver_8 = !java -version 2>&1 | awk -F[\\\"\\.] -v OFS=. 'NR==2{print $2}'\n",
        "if java_ver_17[0] == \"17\" :\n",
        "  print(\"Openjdk17 is working correctly, you are good to go.\")\n",
        "if java_ver_8[0] == \"8\" :\n",
        "  print(\"Openjdk8 is working correctly, you are good to go.\")\n",
        "else:\n",
        "  print(\"Openjdk8 or Openjdk17 doesn't seems to be installed or isn't working, falling back to java. You might experience reduced performance. Minecraft 1.17 and above might fail to launch and in 1.16 and below.\")\n",
        "\n",
        "# Import config file.\n",
        "clear_output()\n",
        "if os.path.isfile(\"JarName\"):\n",
        "  JarName = !cat JarName\n",
        "else:\n",
        "  !tput setaf 3 ; echo \"Which is the name of your jar server name:\"\n",
        "  !read config ; touch JarName ; echo $config > JarName\n",
        "  !tput setaf 2 ; echo \"       You will use PAPER MC (Y/N):       \"\n",
        "  !read -n1 paper ; if [[ $paper == Y ]]; then touch PaperTrue; elif [[ $paper == N ]]; then touch PaperFalse; fi\n",
        "# Java arguments.\n",
        "if os.path.isfile(\"PaperTrue\"):\n",
        "  server_flags = \"-XX:+UseG1GC -XX:+ParallelRefProcEnabled -XX:MaxGCPauseMillis=200 -XX:+UnlockExperimentalVMOptions -XX:+DisableExplicitGC -XX:+AlwaysPreTouch -XX:G1NewSizePercent=30 -XX:G1MaxNewSizePercent=40 -XX:G1HeapRegionSize=8M -XX:G1ReservePercent=20 -XX:G1HeapWastePercent=5 -XX:G1MixedGCCountTarget=4 -XX:InitiatingHeapOccupancyPercent=15 -XX:G1MixedGCLiveThresholdPercent=90 -XX:G1RSetUpdatingPauseTimePercent=5 -XX:SurvivorRatio=32 -XX:+PerfDisableSharedMem -XX:MaxTenuringThreshold=1 -Dusing.aikars.flags=https://mcflags.emc.gs -Daikars.new.flags=true\"\n",
        "else:\n",
        "  server_flags = \"\" # aiker's flags might negatively impact performance on non-paper servers.\n",
        "memory_allocation = \"-Xmx6144M -Xms6144M\"\n",
        "\n",
        "# Chose the tunnle service you want to use\n",
        "# Available options: ngrok, playit\n",
        "clear_output()\n",
        "if  os.path.isfile(\"TunnelService\"):\n",
        "  tunnel_service = !cat TunnelService\n",
        "else:\n",
        "  !touch \"TunnelService\"  \n",
        "  !tput setaf 3 ; echo \"What tunnel service will use:\"; tput setaf 2 ; echo \"1) Ngrok            2) Playit\" ; read tunnel; if [[ $tunnel == 1 ]]; then echo \"ngrok\" > \"TunnelService\" ; elif [[ $tunnel == 2 ]]; then echo \"playit\" > \"TunnelService\"; fi\n",
        "\n",
        "tunnel_service = !cat TunnelService\n",
        "JarName = !cat JarName\n",
        "print(\"Procedding to use\", tunnel_service)\n",
        "if tunnel_service[0] == \"ngrok\":\n",
        "  !pip -q install pyngrok\n",
        "  from pyngrok import conf, ngrok\n",
        "  clear_output()\n",
        "  # Ask for the ngrok authtoken\n",
        "  !tput setaf 3\n",
        "  print(\"Get your authtoken from https://dashboard.ngrok.com/auth\")\n",
        "  !tput setaf 2\n",
        "  if os.path.isfile(\"AuthToken\"):\n",
        "    authtoken = !cat AuthToken\n",
        "  else:\n",
        "    !touch AuthToken\n",
        "    !tput setaf 3\n",
        "    !read -p \"Put here your authtoken: \" token ; echo \"$token\" > \"AuthToken\"\n",
        "  authtoken = !cat AuthToken\n",
        "  atk = authtoken[0]\n",
        "  ! ngrok authtoken $atk # login to ngrok\n",
        "  Jrnmn = JarName[0]\n",
        "  print(Jrnmn)\n",
        "  # Sets default ngrok region\n",
        "  conf.get_default().region = 'us'  # Change this to whichever region you want\n",
        "\n",
        "  # Connect to ngrok\n",
        "  url = ngrok.connect(25565, 'tcp')\n",
        "  print('Your server address is ' + ((str(url).split('\"')[1::2])[0]).replace('tcp://', ''))\n",
        "  print('Starting server...')\n",
        "  !java $memory_allocation $server_flags -jar $Jrnmn nogui\n",
        "\n",
        "elif tunnel_service[0] == \"playit\":\n",
        "  clear_output()\n",
        "  ! curl -SsL https://playit-cloud.github.io/ppa/key.gpg | sudo apt-key add -\n",
        "  ! sudo curl -SsL -o /etc/apt/sources.list.d/playit-cloud.list https://playit-cloud.github.io/ppa/playit-cloud.list\n",
        "  ! sudo apt update &>/dev/null && sudo apt install playit &>/dev/null && echo \"Playit.gg installed\" || echo \"Failed to install playit\"\n",
        "  print('Starting server...')\n",
        "  Jrnmn = JarName[0]\n",
        "  ! playit & java $memory_allocation $server_flags -jar $Jrnmn nogui\n"
      ]
    },
    {
      "cell_type": "markdown",
      "metadata": {
        "id": "Xn5yNCb1Gtis"
      },
      "source": [
        "# Accept eula"
      ]
    },
    {
      "cell_type": "code",
      "execution_count": null,
      "metadata": {
        "id": "awqJPGk8CLCO"
      },
      "outputs": [],
      "source": [
        "from google.colab import drive\n",
        "drive.mount('/content/drive')\n",
        "%cd \"/content/drive/MyDrive/Minecraft-server\"\n",
        "!echo \"eula=true\" > eula.txt"
      ]
    },
    {
      "cell_type": "markdown",
      "metadata": {
        "id": "pL4_ZfyaHNdG"
      },
      "source": [
        "# Questions\n",
        "---\n",
        "\n",
        "**Here can do question other time**"
      ]
    },
    {
      "cell_type": "code",
      "execution_count": null,
      "metadata": {
        "id": "EkuUqI9yHdiw"
      },
      "outputs": [],
      "source": [
        "from IPython.display import clear_output\n",
        "!sudo apt update &>/dev/null && echo \"apt cache successfully updated\" || echo \"apt cache update failed, you might receive stale packages\"\n",
        "from google.colab import drive\n",
        "drive.mount('/content/drive')\n",
        "!mkdir \"/content/drive/MyDrive/Minecraft-server\"\n",
        "%cd \"/content/drive/MyDrive/Minecraft-server\"\n",
        "clear_output()\n",
        "!touch JavaCheck\n",
        "!tput setaf 3; echo \"     Select you minecraft version:    \"; tput setaf 2; echo \"1) 1.17 and above      2) 1.16 to below\"; read ver; if [[ $ver == 1 ]]; then echo \"1\" > JavaCheck; sudo apt-get install openjdk-17-jre-headless &>/dev/null && echo \"Yay! Openjdk17 has been successfully installed.\" || echo \"Failed to install OpenJdk17.\"; elif [[ $ver == 2 ]]; then echo \"2\" > JavaCheck; sudo apt-get install openjdk-8-jre-headless &>/dev/null && echo \"Yay! Openjdk8 has been successfully installed.\" || echo \"Failed to install OpenJdk8.\"; fi\n",
        "clear_output()\n",
        "!tput setaf 3 ; echo \"Which is the name of your jar server name:\"\n",
        "!read config ; touch JarName ; echo $config > JarName\n",
        "!rm -r PaperTrue; rm -r PaperFalse\n",
        "!tput setaf 2 ; echo \"       You will use PAPER MC (Y/N):       \"\n",
        "!read -n1 paper ; if [[ $paper == Y ]]; then touch PaperTrue; elif [[ $paper == N ]]; then touch PaperFalse; fi\n",
        "!touch \"TunnelService\"\n",
        "clear_output()\n",
        "!tput setaf 3 ; echo \"What tunnel service will use:\"; tput setaf 2 ; echo \"1) Ngrok            2) Playit\" ; read tunnel; if [[ $tunnel == 1 ]]; then echo \"ngrok\" > \"TunnelService\" ; elif [[ $tunnel == 2 ]]; then echo \"playit\" > \"TunnelService\"; fi\n",
        "tunnel_service = !cat TunnelService\n",
        "print(\"Procedding to use\", tunnel_service)\n",
        "if tunnel_service[0] == \"ngrok\":\n",
        "  clear_output()\n",
        "  !touch AuthToken\n",
        "  !tput setaf 3\n",
        "  !read -p \"Put here your authtoken: \" token ; echo \"$token\" > \"AuthToken\""
      ]
    },
    {
      "cell_type": "markdown",
      "metadata": {
        "id": "FO5S4OHVdV5O"
      },
      "source": [
        "# Debug\n",
        "SSH access to host OS - Thanks to [colab-ssh](https://github.com/WassimBenzarti/colab-ssh)."
      ]
    },
    {
      "cell_type": "code",
      "execution_count": null,
      "metadata": {
        "id": "cM7gKp6Yi8Q2"
      },
      "outputs": [],
      "source": [
        "#@title Colab-ssh tunnel\n",
        "#@markdown Execute this cell to open the ssh tunnel. Check [colab-ssh documentation](https://github.com/WassimBenzarti/colab-ssh) for more details.\n",
        "\n",
        "# Install colab_ssh on google colab\n",
        "!pip install colab_ssh --upgrade\n",
        "\n",
        "from colab_ssh import launch_ssh_cloudflared, init_git_cloudflared\n",
        "ssh_tunnel_password = \"<PUT_YOUR_PASSWORD_HERE>\" #@param {type: \"string\"}\n",
        "launch_ssh_cloudflared(password=ssh_tunnel_password)"
      ]
    },
    {
      "cell_type": "code",
      "execution_count": null,
      "metadata": {
        "id": "7kR6rsn7jyxt"
      },
      "outputs": [],
      "source": [
        "#Get public address (ngrok)\n",
        "! curl -s http://localhost:4040/api/tunnels | python3 -c \\\n",
        "    \"import sys, json; print(json.load(sys.stdin)['tunnels'][0]['public_url'])\""
      ]
    },
    {
      "cell_type": "code",
      "execution_count": null,
      "metadata": {
        "id": "Z2rztsCQk0kh"
      },
      "outputs": [],
      "source": [
        "## For inspecting the minecraft server directory ##\n",
        "%cd \"/content/drive/My Drive/Minecraft-server\"\n",
        "!ls\n"
      ]
    }
  ],
  "metadata": {
    "colab": {
      "provenance": [],
      "include_colab_link": true
    },
    "kernelspec": {
      "display_name": "Python 3",
      "name": "python3"
    }
  },
  "nbformat": 4,
  "nbformat_minor": 0
}