{
  "cells": [
    {
      "cell_type": "markdown",
      "metadata": {
        "id": "view-in-github",
        "colab_type": "text"
      },
      "source": [
        "<a href=\"https://colab.research.google.com/github/LBY-L/MineColab/blob/master/MineColab_forked_by_LBY.ipynb\" target=\"_parent\"><img src=\"https://colab.research.google.com/assets/colab-badge.svg\" alt=\"Open In Colab\"/></a>"
      ]
    },
    {
      "cell_type": "code",
      "source": [
        "#@title\n",
        "from IPython.core.display import display, HTML\n",
        "display(HTML('<p><img style=\"display: block; margin-left: auto; margin-right: auto;\" src=\"https://github.com/LBY-L/MineColab/blob/master/Logo.png?raw=true\" alt=\"\" width=\"170\" height=\"136\" /></p><h1 style=\"text-align: center;\"><span style=\"color: #99ccff;\">MineColab</span></h1><hr /><h2 style=\"text-align: center;\"><span style=\"color: #ccffcc;\">Forked By LBY_L</span></h2><h2 style=\"text-align: center;\"><span style=\"color: #99cc00;\">Run Minecraft Server On Google Colab</span></h2>'))"
      ],
      "metadata": {
        "colab": {
          "base_uri": "https://localhost:8080/",
          "height": 313
        },
        "cellView": "form",
        "id": "qGGoU3FtnWdc",
        "outputId": "032c4fd5-df82-43d6-b005-587c7f53f3f8"
      },
      "execution_count": null,
      "outputs": [
        {
          "output_type": "display_data",
          "data": {
            "text/plain": [
              "<IPython.core.display.HTML object>"
            ],
            "text/html": [
              "<p><img style=\"display: block; margin-left: auto; margin-right: auto;\" src=\"https://github.com/LBY-L/MineColab/blob/master/Logo.png?raw=true\" alt=\"\" width=\"170\" height=\"136\" /></p><h1 style=\"text-align: center;\"><span style=\"color: #99ccff;\">MineColab</span></h1><hr /><h2 style=\"text-align: center;\"><span style=\"color: #ccffcc;\">Forked By LBY_L</span></h2><h2 style=\"text-align: center;\"><span style=\"color: #99cc00;\">Run Minecraft Server On Google Colab</span></h2>"
            ]
          },
          "metadata": {}
        }
      ]
    },
    {
      "cell_type": "code",
      "execution_count": 1,
      "metadata": {
        "id": "awqJPGk8CLCO",
        "outputId": "e5fc18b8-9c5c-42c7-febe-6461a72c2093",
        "colab": {
          "base_uri": "https://localhost:8080/"
        }
      },
      "outputs": [
        {
          "output_type": "stream",
          "name": "stdout",
          "text": [
            "Mounted at /content/drive\n"
          ]
        }
      ],
      "source": [
        "#@title <p><img src=\"https://github.com/LBY-L/MineColab/blob/master/grass.png?raw=true\" alt=\"grass.png\" width=\"90\" height=\"90\" /></p><hr /><h2> { display-mode: \"form\" }\n",
        "#@markdown #### **You can chose betwen a suffix of your server folder.**\n",
        "from google.colab import drive\n",
        "# Mount Google Drive\n",
        "drive.mount('/content/drive')\n",
        "suffix = \"au\" #@param [\"colab\", \"cts\", \"combat\", \"velocity\", \"flypvp\", \"adrip\", \"rizecookey\", \"lby\", \"pvp\", \"us\", \"eu\", \"ap\", \"au\", \"sa\", \"jp\", \"in\"]\n",
        "!mkdir \"/content/drive/MyDrive/Minecraft-server-$suffix\"\n",
        "\n",
        "#@markdown Your folder must be look like this `Minecraft-server-suffix`\n",
        "\n",
        "#@markdown #### **Run the cell to create folder**"
      ]
    },
    {
      "cell_type": "code",
      "execution_count": 1,
      "metadata": {
        "id": "lqtMoYg0dUmu",
        "outputId": "597d9cc1-2c5d-48d2-b143-423339bbd0a6",
        "colab": {
          "base_uri": "https://localhost:8080/",
          "height": 400
        }
      },
      "outputs": [
        {
          "output_type": "error",
          "ename": "ValueError",
          "evalue": "ignored",
          "traceback": [
            "\u001b[0;31m---------------------------------------------------------------------------\u001b[0m",
            "\u001b[0;31mValueError\u001b[0m                                Traceback (most recent call last)",
            "\u001b[0;32m<ipython-input-1-ba2b7d16a16b>\u001b[0m in \u001b[0;36m<cell line: 29>\u001b[0;34m()\u001b[0m\n\u001b[1;32m     27\u001b[0m \u001b[0;32mimport\u001b[0m \u001b[0mtime\u001b[0m\u001b[0;34m\u001b[0m\u001b[0;34m\u001b[0m\u001b[0m\n\u001b[1;32m     28\u001b[0m \u001b[0;34m\u001b[0m\u001b[0m\n\u001b[0;32m---> 29\u001b[0;31m \u001b[0mdrive\u001b[0m\u001b[0;34m.\u001b[0m\u001b[0mmount\u001b[0m\u001b[0;34m(\u001b[0m\u001b[0;34m'/content/drive'\u001b[0m\u001b[0;34m)\u001b[0m\u001b[0;34m\u001b[0m\u001b[0;34m\u001b[0m\u001b[0m\n\u001b[0m\u001b[1;32m     30\u001b[0m \u001b[0mget_ipython\u001b[0m\u001b[0;34m(\u001b[0m\u001b[0;34m)\u001b[0m\u001b[0;34m.\u001b[0m\u001b[0mrun_line_magic\u001b[0m\u001b[0;34m(\u001b[0m\u001b[0;34m'cd'\u001b[0m\u001b[0;34m,\u001b[0m \u001b[0;34m'\"/content/drive/MyDrive/Minecraft-server-$suffix\"'\u001b[0m\u001b[0;34m)\u001b[0m\u001b[0;34m\u001b[0m\u001b[0;34m\u001b[0m\u001b[0m\n\u001b[1;32m     31\u001b[0m \u001b[0mget_ipython\u001b[0m\u001b[0;34m(\u001b[0m\u001b[0;34m)\u001b[0m\u001b[0;34m.\u001b[0m\u001b[0msystem\u001b[0m\u001b[0;34m(\u001b[0m\u001b[0;34m'echo \"eula=true\" > eula.txt'\u001b[0m\u001b[0;34m)\u001b[0m\u001b[0;34m\u001b[0m\u001b[0;34m\u001b[0m\u001b[0m\n",
            "\u001b[0;32m/usr/local/lib/python3.10/dist-packages/google/colab/drive.py\u001b[0m in \u001b[0;36mmount\u001b[0;34m(mountpoint, force_remount, timeout_ms, readonly)\u001b[0m\n\u001b[1;32m    101\u001b[0m \u001b[0;32mdef\u001b[0m \u001b[0mmount\u001b[0m\u001b[0;34m(\u001b[0m\u001b[0mmountpoint\u001b[0m\u001b[0;34m,\u001b[0m \u001b[0mforce_remount\u001b[0m\u001b[0;34m=\u001b[0m\u001b[0;32mFalse\u001b[0m\u001b[0;34m,\u001b[0m \u001b[0mtimeout_ms\u001b[0m\u001b[0;34m=\u001b[0m\u001b[0;36m120000\u001b[0m\u001b[0;34m,\u001b[0m \u001b[0mreadonly\u001b[0m\u001b[0;34m=\u001b[0m\u001b[0;32mFalse\u001b[0m\u001b[0;34m)\u001b[0m\u001b[0;34m:\u001b[0m\u001b[0;34m\u001b[0m\u001b[0;34m\u001b[0m\u001b[0m\n\u001b[1;32m    102\u001b[0m   \u001b[0;34m\"\"\"Mount your Google Drive at the specified mountpoint path.\"\"\"\u001b[0m\u001b[0;34m\u001b[0m\u001b[0;34m\u001b[0m\u001b[0m\n\u001b[0;32m--> 103\u001b[0;31m   return _mount(\n\u001b[0m\u001b[1;32m    104\u001b[0m       \u001b[0mmountpoint\u001b[0m\u001b[0;34m,\u001b[0m\u001b[0;34m\u001b[0m\u001b[0;34m\u001b[0m\u001b[0m\n\u001b[1;32m    105\u001b[0m       \u001b[0mforce_remount\u001b[0m\u001b[0;34m=\u001b[0m\u001b[0mforce_remount\u001b[0m\u001b[0;34m,\u001b[0m\u001b[0;34m\u001b[0m\u001b[0;34m\u001b[0m\u001b[0m\n",
            "\u001b[0;32m/usr/local/lib/python3.10/dist-packages/google/colab/drive.py\u001b[0m in \u001b[0;36m_mount\u001b[0;34m(mountpoint, force_remount, timeout_ms, ephemeral, readonly)\u001b[0m\n\u001b[1;32m    190\u001b[0m       \u001b[0;32mraise\u001b[0m \u001b[0mValueError\u001b[0m\u001b[0;34m(\u001b[0m\u001b[0;34m'Mountpoint must not be a symlink'\u001b[0m\u001b[0;34m)\u001b[0m\u001b[0;34m\u001b[0m\u001b[0;34m\u001b[0m\u001b[0m\n\u001b[1;32m    191\u001b[0m     \u001b[0;32mif\u001b[0m \u001b[0m_os\u001b[0m\u001b[0;34m.\u001b[0m\u001b[0mpath\u001b[0m\u001b[0;34m.\u001b[0m\u001b[0misdir\u001b[0m\u001b[0;34m(\u001b[0m\u001b[0mmountpoint\u001b[0m\u001b[0;34m)\u001b[0m \u001b[0;32mand\u001b[0m \u001b[0m_os\u001b[0m\u001b[0;34m.\u001b[0m\u001b[0mlistdir\u001b[0m\u001b[0;34m(\u001b[0m\u001b[0mmountpoint\u001b[0m\u001b[0;34m)\u001b[0m\u001b[0;34m:\u001b[0m\u001b[0;34m\u001b[0m\u001b[0;34m\u001b[0m\u001b[0m\n\u001b[0;32m--> 192\u001b[0;31m       \u001b[0;32mraise\u001b[0m \u001b[0mValueError\u001b[0m\u001b[0;34m(\u001b[0m\u001b[0;34m'Mountpoint must not already contain files'\u001b[0m\u001b[0;34m)\u001b[0m\u001b[0;34m\u001b[0m\u001b[0;34m\u001b[0m\u001b[0m\n\u001b[0m\u001b[1;32m    193\u001b[0m     \u001b[0;32mif\u001b[0m \u001b[0;32mnot\u001b[0m \u001b[0m_os\u001b[0m\u001b[0;34m.\u001b[0m\u001b[0mpath\u001b[0m\u001b[0;34m.\u001b[0m\u001b[0misdir\u001b[0m\u001b[0;34m(\u001b[0m\u001b[0mmountpoint\u001b[0m\u001b[0;34m)\u001b[0m \u001b[0;32mand\u001b[0m \u001b[0m_os\u001b[0m\u001b[0;34m.\u001b[0m\u001b[0mpath\u001b[0m\u001b[0;34m.\u001b[0m\u001b[0mexists\u001b[0m\u001b[0;34m(\u001b[0m\u001b[0mmountpoint\u001b[0m\u001b[0;34m)\u001b[0m\u001b[0;34m:\u001b[0m\u001b[0;34m\u001b[0m\u001b[0;34m\u001b[0m\u001b[0m\n\u001b[1;32m    194\u001b[0m       \u001b[0;32mraise\u001b[0m \u001b[0mValueError\u001b[0m\u001b[0;34m(\u001b[0m\u001b[0;34m'Mountpoint must either be a directory or not exist'\u001b[0m\u001b[0;34m)\u001b[0m\u001b[0;34m\u001b[0m\u001b[0;34m\u001b[0m\u001b[0m\n",
            "\u001b[0;31mValueError\u001b[0m: Mountpoint must not already contain files"
          ]
        }
      ],
      "source": [
        "#@title <p><img src=\"https://github.com/LBY-L/MineColab/blob/master/Logo.png?raw=true\" width=\"96\" height=\"77\" /></p><hr /><h2>Click here to run your server. Before you need follow the instructions</h2> { display-mode: \"form\" }\n",
        "\n",
        "\n",
        "\n",
        "JarName = \"server.jar\" #@param {type:\"string\"}\n",
        "Paper = False #@param {type:\"boolean\"}\n",
        "#@markdown #### **You can select between [Ngrok](https://ngrok.com/) or [PlayIt](https://playit.gg/) if you will use Ngrok you need complete NgrokAuthToken and NgrokRegion.**\n",
        "TunnelService = \"playit\" #@param [\"ngrok\", \"playit\"]\n",
        "#@markdown #### **Here put your ngrok token, if you haven't it, get it [here](https://dashboard.ngrok.com/get-started/your-authtoken).**\n",
        "NgrokAuthToken = \"\" #@param {type:\"string\"}\n",
        "#@markdown #### **Here is the region where is will be hosted your minecraft.**\n",
        "#@markdown * #### `us` - United States (Ohio)\n",
        "#@markdown * #### `eu` - Europe (Frankfurt)\n",
        "#@markdown * #### `ap` - Asia/Pacific (Singapore)\n",
        "#@markdown * #### `au` - Australia (Sydney)\n",
        "#@markdown * #### `sa` - South America (Sao Paulo)\n",
        "#@markdown * #### `jp` - Japan (Tokyo)\n",
        "#@markdown * #### `in` - India (Mumbai)\n",
        "NgrokRegion = \"None\" #@param [\"us\", \"eu\", \"ap\", \"au\", \"sa\", \"jp\", \"in\", \"None\"]\n",
        "\n",
        "from google.colab import drive\n",
        "from IPython.core.display import display, HTML, clear_output\n",
        "import json\n",
        "import os\n",
        "import re\n",
        "import subprocess\n",
        "import time\n",
        "\n",
        "drive.mount('/content/drive')\n",
        "%cd \"/content/drive/MyDrive/Minecraft-server-$suffix\"\n",
        "!echo \"eula=true\" > eula.txt\n",
        "\n",
        "def updateBar(a):\n",
        "  out.update(progress(a, 100))\n",
        "\n",
        "def seCls(b):\n",
        "  time.sleep(b)\n",
        "  clear_output()\n",
        "\n",
        "def console():\n",
        "  display(HTML('<p><img style=\"display: block; margin-left: auto; margin-right: auto;\" src=\"https://github.com/LBY-L/MineColab/blob/master/CONSOLE-12-12-2022.png?raw=true\" alt=\"CONSOLE-12-12-2022.png\" width=\"511\" height=\"175\" /></p>'))\n",
        "\n",
        "seCls(0)\n",
        "\n",
        "# Change directory to the Minecraft server folder on Google Drive\n",
        "%cd \"/content/drive/MyDrive/Minecraft-server-$suffix\"\n",
        "\n",
        "seCls(0)\n",
        "\n",
        "# Install Java Versions (8, 17)\n",
        "!sudo apt update &>/dev/null && echo \"apt cache successfully updated\" || echo \"apt cache update failed, you might receive stale packages\"; sudo apt-get install openjdk-17-jre-headless &>/dev/null && echo \"Yay! Openjdk17 has been successfully installed.\" || echo \"Failed to install OpenJdk17.\"; sudo apt-get install openjdk-8-jre-headless &>/dev/null && echo \"Yay! Openjdk8 has been successfully installed.\" || echo \"Failed to install OpenJdk8.\"\n",
        "\n",
        "# Java arguments.\n",
        "if Paper == True:\n",
        "  server_flags = \"-XX:+UseG1GC -XX:+ParallelRefProcEnabled -XX:MaxGCPauseMillis=200 -XX:+UnlockExperimentalVMOptions -XX:+DisableExplicitGC -XX:+AlwaysPreTouch -XX:G1NewSizePercent=30 -XX:G1MaxNewSizePercent=40 -XX:G1HeapRegionSize=8M -XX:G1ReservePercent=20 -XX:G1HeapWastePercent=5 -XX:G1MixedGCCountTarget=4 -XX:InitiatingHeapOccupancyPercent=15 -XX:G1MixedGCLiveThresholdPercent=90 -XX:G1RSetUpdatingPauseTimePercent=5 -XX:SurvivorRatio=32 -XX:+PerfDisableSharedMem -XX:MaxTenuringThreshold=1 -Dusing.aikars.flags=https://mcflags.emc.gs -Daikars.new.flags=true\"\n",
        "else:\n",
        "  server_flags = \"\"; memory_allocation = \"-Xmx6144M -Xms6144M\" # aiker's flags might negatively impact performance on non-paper servers.\n",
        "\n",
        "seCls(0)\n",
        "\n",
        "# Display html text of Starting server\n",
        "display(HTML('<p><img style=\"display: block; margin-left: auto; margin-right: auto;\" src=\"https://github.com/LBY-L/MineColab/blob/master/COLAB-26-11-2022.png?raw=true\" alt=\"COLAB-26-11-2022.png\" width=\"327\" heig<p><img style=\"display: block; margin-left: auto; margin-right: auto;\" src=\"https://github.com/LBY-L/MineColab/blob/master/Starting-Serever-12-12-2022.png?raw=true\" alt=\"Starting-Serever-12-12-2022.png\" width=\"335\" height=\"91\" /></p>'))\n",
        "def progress(value, max=100):\n",
        "    return HTML(\"\"\"\n",
        "        <progress\n",
        "            value='{value}'\n",
        "            max='{max}',\n",
        "            style='width: 100%'\n",
        "        >\n",
        "            {value}\n",
        "        </progress>\n",
        "    \"\"\".format(value=value, max=max))\n",
        "\n",
        "out = display(progress(0, 100), display_id=True)\n",
        "\n",
        "# Server starting\n",
        "subprocess.run([\"python\", \"-c\", \"'while True:pass'\"])\n",
        "if TunnelService == \"ngrok\":\n",
        "  !pip -q install pyngrok &>/dev/null\n",
        "\n",
        "  updateBar(16.7)\n",
        "\n",
        "  from pyngrok import conf, ngrok\n",
        "\n",
        "  updateBar(33.4)\n",
        "\n",
        "  # Ask for the ngrok authtoken\n",
        "  !ngrok authtoken $NgrokAuthToken &>/dev/null # login to ngrok\n",
        "\n",
        "  updateBar(50.1)\n",
        "\n",
        "  # Sets default ngrok region\n",
        "  conf.get_default().region = NgrokRegion  # Change this to whichever region you want\n",
        "\n",
        "  updateBar(66.8)\n",
        "\n",
        "  # Connect to ngrok\n",
        "  url = ngrok.connect(25565, 'tcp')\n",
        "\n",
        "  updateBar(83.5)\n",
        "\n",
        "  print('Your server address is ' + ((str(url).split('\"')[1::2])[0]).replace('tcp://', ''))\n",
        "\n",
        "  updateBar(100.2)\n",
        "  seCls(3)\n",
        "\n",
        "  console()\n",
        "  !java $memory_allocation $server_flags -jar $JarName nogui\n",
        "\n",
        "elif TunnelService == \"playit\":\n",
        "  !curl -SsL https://playit-cloud.github.io/ppa/key.gpg | sudo apt-key add - &>/dev/null\n",
        "\n",
        "  updateBar(33.4)\n",
        "\n",
        "  !sudo curl -SsL -o /etc/apt/sources.list.d/playit-cloud.list https://playit-cloud.github.io/ppa/playit-cloud.list &>/dev/null\n",
        "\n",
        "  updateBar(66.8)\n",
        "\n",
        "  !sudo apt update &>/dev/null && sudo apt install playit &>/dev/null && echo \"PlayIt installed\" || echo \"Failed to install PlayIt\"\n",
        "\n",
        "  updateBar(100.2)\n",
        "  seCls(3)\n",
        "\n",
        "  console()\n",
        "\n",
        "  !playit & java $memory_allocation $server_flags -jar $JarName nogui\n"
      ]
    }
  ],
  "metadata": {
    "colab": {
      "provenance": [],
      "include_colab_link": true
    },
    "kernelspec": {
      "display_name": "Python 3",
      "name": "python3"
    }
  },
  "nbformat": 4,
  "nbformat_minor": 0
}